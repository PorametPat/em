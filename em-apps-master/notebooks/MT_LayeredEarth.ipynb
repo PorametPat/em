{
 "cells": [
  {
   "cell_type": "code",
   "execution_count": 1,
   "metadata": {},
   "outputs": [],
   "source": [
    "from em_examples.MT import MT1D_app\n",
    "from IPython.display import display\n",
    "%matplotlib inline"
   ]
  },
  {
   "cell_type": "code",
   "execution_count": 4,
   "metadata": {},
   "outputs": [],
   "source": [
    "from matplotlib import rcParams\n",
    "rcParams['font.size'] = 20"
   ]
  },
  {
   "cell_type": "markdown",
   "metadata": {},
   "source": [
    "# Magnetotelluric: Forward Modelling for 1 to 3 layers"
   ]
  },
  {
   "cell_type": "markdown",
   "metadata": {},
   "source": [
    "Here you can visualize Magnetotelluric (MT) response of a layered earth, up to 3 layers in this interactive notebook.\n",
    "- **fmin**: smallest measured frequency (Hz) \n",
    "- **fmax**: highest measured frequency (Hz)\n",
    "- **nbdata**: number of data points evenly spaced between **fmin** and **fmax** \n",
    "- **h** (i): thickness of the layer i. Put it to zero to remove one layer\n",
    "- **$\\rho_i$**: electrical resistivity of the layer i, in ohm-m\n",
    "- **$\\varepsilon_i$**: relative dielectric permittivity $\\varepsilon_r$ of the layer i\n",
    "- **$\\mu_i$**: relative magnetic permittivity $\\mu_r$ of the layer i\n",
    "- **Plot Envelope fields**: If activated (might be slow), plot the envelope of the E and H field for a given frequency (see fenvelope)\n",
    "- **F**: plot the envelope for of the waves at 'F' Hz"
   ]
  },
  {
   "cell_type": "code",
   "execution_count": 5,
   "metadata": {
    "scrolled": false
   },
   "outputs": [
    {
     "data": {
      "application/vnd.jupyter.widget-view+json": {
       "model_id": "ab06925162f94d1794831c9c19a71821",
       "version_major": 2,
       "version_minor": 0
      },
      "text/html": [
       "<p>Failed to display Jupyter Widget of type <code>MyApp</code>.</p>\n",
       "<p>\n",
       "  If you're reading this message in the Jupyter Notebook or JupyterLab Notebook, it may mean\n",
       "  that the widgets JavaScript is still loading. If this message persists, it\n",
       "  likely means that the widgets JavaScript library is either not installed or\n",
       "  not enabled. See the <a href=\"https://ipywidgets.readthedocs.io/en/stable/user_install.html\">Jupyter\n",
       "  Widgets Documentation</a> for setup instructions.\n",
       "</p>\n",
       "<p>\n",
       "  If you're reading this message in another frontend (for example, a static\n",
       "  rendering on GitHub or <a href=\"https://nbviewer.jupyter.org/\">NBViewer</a>),\n",
       "  it may mean that your frontend doesn't currently support widgets.\n",
       "</p>\n"
      ],
      "text/plain": [
       "MyApp(children=(FloatText(value=1e-05, description='fmin'), FloatText(value=100000.0, description='fmax'), IntSlider(value=100, continuous_update=False, description='nbdata', min=10, step=10), FloatSlider(value=500.0, continuous_update=False, description='h1', max=10000.0, step=50.0), FloatSlider(value=1000.0, continuous_update=False, description='h2', max=10000.0, step=50.0), FloatText(value=100.0, description='$\\\\rho_1$'), FloatText(value=1000.0, description='$\\\\rho_2$'), FloatText(value=10.0, description='$\\\\rho_3$'), FloatSlider(value=1.0, continuous_update=False, description='$\\\\mu_1$', max=1.2, min=1.0, step=0.01), FloatSlider(value=1.0, continuous_update=False, description='$\\\\mu_2$', max=1.2, min=1.0, step=0.01), FloatSlider(value=1.0, continuous_update=False, description='$\\\\mu_3$', max=1.2, min=1.0, step=0.01), FloatSlider(value=1.0, continuous_update=False, description='$\\\\varepsilon_1$', max=80.0, min=1.0, step=1.0), FloatSlider(value=1.0, continuous_update=False, description='$\\\\varepsilon_2$', max=80.0, min=1.0, step=1.0), FloatSlider(value=1.0, continuous_update=False, description='$\\\\varepsilon_3$', max=80.0, min=1.0, step=1.0), ToggleButton(value=False, description='Plot Envelope fields'), FloatText(value=10000.0, description='F'), Output()), layout=Layout(align_items='stretch', display='flex', flex_flow='column'))"
      ]
     },
     "metadata": {},
     "output_type": "display_data"
    }
   ],
   "source": [
    "app = MT1D_app()\n",
    "display(app)"
   ]
  },
  {
   "cell_type": "code",
   "execution_count": null,
   "metadata": {},
   "outputs": [],
   "source": []
  },
  {
   "cell_type": "code",
   "execution_count": null,
   "metadata": {},
   "outputs": [],
   "source": []
  }
 ],
 "metadata": {
  "anaconda-cloud": {},
  "kernelspec": {
   "display_name": "Python 3",
   "language": "python",
   "name": "python3"
  },
  "language_info": {
   "codemirror_mode": {
    "name": "ipython",
    "version": 3
   },
   "file_extension": ".py",
   "mimetype": "text/x-python",
   "name": "python",
   "nbconvert_exporter": "python",
   "pygments_lexer": "ipython3",
   "version": "3.6.4"
  },
  "widgets": {
   "state": {
    "edab05a8629541f0ba6b6f254516fa0a": {
     "views": [
      {
       "cell_index": 3
      }
     ]
    }
   },
   "version": "1.2.0"
  }
 },
 "nbformat": 4,
 "nbformat_minor": 1
}
