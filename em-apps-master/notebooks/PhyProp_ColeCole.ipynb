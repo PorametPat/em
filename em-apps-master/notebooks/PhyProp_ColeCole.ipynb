{
 "cells": [
  {
   "cell_type": "code",
   "execution_count": 1,
   "metadata": {},
   "outputs": [
    {
     "name": "stdout",
     "output_type": "stream",
     "text": [
      "Populating the interactive namespace from numpy and matplotlib\n"
     ]
    }
   ],
   "source": [
    "from em_examples.CondUtils import ColeColePelton, vizColeCole\n",
    "from em_examples.FreqtoTime import transFilt\n",
    "import matplotlib\n",
    "from ipywidgets import interact, FloatText, FloatSlider, ToggleButtons\n",
    "from IPython.display import display\n",
    "%pylab inline"
   ]
  },
  {
   "cell_type": "code",
   "execution_count": 2,
   "metadata": {},
   "outputs": [],
   "source": [
    "matplotlib.rcParams['font.size'] = 16"
   ]
  },
  {
   "cell_type": "markdown",
   "metadata": {},
   "source": [
    "# Title: Complex conductivity and resistivity"
   ]
  },
  {
   "cell_type": "markdown",
   "metadata": {},
   "source": [
    "# Purpose\n",
    "\n",
    "Using a simple Cole-Cole model, we parameterize complex resistivity with four parameters: resistivity at zero frequency ($\\rho_0$), chargeability($\\eta$), time constant ($\\tau$), and frequency dependence ($c$). Based upon those parameters, we understand how resistivity and conductivity changes when medium is chargeable both in frequency domain and time domain."
   ]
  },
  {
   "cell_type": "markdown",
   "metadata": {},
   "source": [
    "# Set up\n",
    "\n",
    "Pelton's Cole-Cole model for resistivity and conductivity can be written as \n",
    "\n",
    "$$ \\rho(\\omega) = \\rho_0 \\Big[1 - \\eta \\Big(1-\\frac{1}{1+(\\imath\\omega\\tau)^c}\\Big) \\Big] $$\n",
    "\n",
    "and\n",
    "\n",
    "$$ \\sigma(\\omega) = \\sigma_{\\infty}\\Big(1-\\frac{\\eta}{1+(1-\\eta)(\\imath\\omega\\tau)^c} \\Big) $$\n",
    "\n",
    "respectively. "
   ]
  },
  {
   "cell_type": "markdown",
   "metadata": {},
   "source": [
    "# Cole-Cole app\n",
    "\n",
    "## Parameters\n",
    "\n",
    "- $\\sigma_1$: Conductivity of the first layer (S/m)\n",
    "\n",
    "- $\\sigma_2$: Conductivity of the first layer (S/m)\n",
    "\n",
    "- $f$ (Hz): Frequency (Hz)\n",
    "\n",
    "- Type: \n",
    "\n",
    "    - Reflection: Transmission power as a function of incident angle    \n",
    "    - Transmission: Transmission power as a function of incident angle    \n",
    "    - Angle: relationship between $\\theta_i$ and $\\theta_t$"
   ]
  },
  {
   "cell_type": "code",
   "execution_count": 3,
   "metadata": {
    "scrolled": false
   },
   "outputs": [
    {
     "data": {
      "application/vnd.jupyter.widget-view+json": {
       "model_id": "0c13f5e409634557a8c65e6f668c14fa",
       "version_major": 2,
       "version_minor": 0
      },
      "text/html": [
       "<p>Failed to display Jupyter Widget of type <code>interactive</code>.</p>\n",
       "<p>\n",
       "  If you're reading this message in the Jupyter Notebook or JupyterLab Notebook, it may mean\n",
       "  that the widgets JavaScript is still loading. If this message persists, it\n",
       "  likely means that the widgets JavaScript library is either not installed or\n",
       "  not enabled. See the <a href=\"https://ipywidgets.readthedocs.io/en/stable/user_install.html\">Jupyter\n",
       "  Widgets Documentation</a> for setup instructions.\n",
       "</p>\n",
       "<p>\n",
       "  If you're reading this message in another frontend (for example, a static\n",
       "  rendering on GitHub or <a href=\"https://nbviewer.jupyter.org/\">NBViewer</a>),\n",
       "  it may mean that your frontend doesn't currently support widgets.\n",
       "</p>\n"
      ],
      "text/plain": [
       "interactive(children=(ToggleButtons(description='sigres', options=('sigma', 'resis'), value='sigma'), FloatSlider(value=0.4, description='eta', max=0.5, min=0.1, step=0.05), FloatText(value=0.1, description='tau'), FloatSlider(value=0.5, description='c', max=1.0, min=0.1), FloatText(value=800.0, description='t1'), FloatText(value=1400.0, description='t2'), Output()), _dom_classes=('widget-interact',))"
      ]
     },
     "metadata": {},
     "output_type": "display_data"
    },
    {
     "data": {
      "text/plain": [
       "<function em_examples.CondUtils.vizColeCole>"
      ]
     },
     "execution_count": 3,
     "metadata": {},
     "output_type": "execute_result"
    }
   ],
   "source": [
    "interact(vizColeCole, eta=FloatSlider(min=0.1, max=0.5, step=0.05, value=0.4), \n",
    "         tau=FloatText(value=0.1), \n",
    "         c=FloatSlider(min=0.1, max=1., step=0.1, value=0.5), \n",
    "         sigres = ToggleButtons(options=['sigma','resis']), \n",
    "         t1=FloatText(value=800), \n",
    "         t2=FloatText(value=1400),          \n",
    "        )"
   ]
  },
  {
   "cell_type": "code",
   "execution_count": null,
   "metadata": {},
   "outputs": [],
   "source": []
  }
 ],
 "metadata": {
  "anaconda-cloud": {},
  "kernelspec": {
   "display_name": "Python 3",
   "language": "python",
   "name": "python3"
  },
  "language_info": {
   "codemirror_mode": {
    "name": "ipython",
    "version": 3
   },
   "file_extension": ".py",
   "mimetype": "text/x-python",
   "name": "python",
   "nbconvert_exporter": "python",
   "pygments_lexer": "ipython3",
   "version": "3.6.4"
  },
  "widgets": {
   "state": {
    "6a2fcd9221824e92aa1f285d67c9e8b4": {
     "views": [
      {
       "cell_index": 5
      }
     ]
    }
   },
   "version": "1.2.0"
  }
 },
 "nbformat": 4,
 "nbformat_minor": 1
}
